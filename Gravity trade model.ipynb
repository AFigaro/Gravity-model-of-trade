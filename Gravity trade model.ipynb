{
 "cells": [
  {
   "cell_type": "markdown",
   "metadata": {},
   "source": [
    "### Applying gravity trade model for bilateral trade between Czech Respublic and Kenya\n",
    "\n",
    "The gravity trade model was described in 1962 [1]. Since then it has been used in different implementations for describing and predicting the value of bilateral trade between different countries. See also [2].\n",
    "\n",
    "CEPII archive was used as dataset for training models. Link:http://www.cepii.fr/CEPII/en/bdd_modele/presentation.asp?id=6."
   ]
  },
  {
   "cell_type": "code",
   "execution_count": 1,
   "metadata": {},
   "outputs": [],
   "source": [
    "import warnings\n",
    "warnings.filterwarnings('ignore')"
   ]
  },
  {
   "cell_type": "code",
   "execution_count": 2,
   "metadata": {},
   "outputs": [
    {
     "name": "stdout",
     "output_type": "stream",
     "text": [
      "Populating the interactive namespace from numpy and matplotlib\n"
     ]
    }
   ],
   "source": [
    "import pandas as pd\n",
    "import numpy as np\n",
    "\n",
    "\n",
    "\n",
    "from sklearn.model_selection import train_test_split as tts\n",
    "\n",
    "\n",
    "from sklearn.tree import DecisionTreeRegressor as DTR\n",
    "%pylab inline\n",
    "\n",
    "\n",
    "pd.options.mode.chained_assignment = None # Made it for simplifying output\n",
    "pd.set_option('display.max_columns', None)\n",
    "pd.set_option('display.max_rows', None)\n",
    "pd.set_option('display.max_info_rows', 1000)\n"
   ]
  },
  {
   "cell_type": "markdown",
   "metadata": {},
   "source": [
    "## Defining new functions"
   ]
  },
  {
   "cell_type": "markdown",
   "metadata": {},
   "source": [
    "Implementation of Minkowski distance, Mean Squared Error and Mean Absolute Error for two array.\n",
    "\n",
    "Also define R-squared score"
   ]
  },
  {
   "cell_type": "code",
   "execution_count": 3,
   "metadata": {},
   "outputs": [],
   "source": [
    "def Mink(arr1, arr2, n): \n",
    "    return np.sum(np.abs(arr1 - arr2) ** n) ** (1/n)"
   ]
  },
  {
   "cell_type": "code",
   "execution_count": 4,
   "metadata": {},
   "outputs": [],
   "source": [
    "def mean_squared_error(arr1, arr2):\n",
    "    return 1/len(arr1) * np.sum((arr1-arr2)**2)"
   ]
  },
  {
   "cell_type": "code",
   "execution_count": 5,
   "metadata": {},
   "outputs": [],
   "source": [
    "def mean_absolute_error(arr1, arr2):\n",
    "    return 1/len(arr1) * np.sum(np.abs(arr1-arr2))"
   ]
  },
  {
   "cell_type": "code",
   "execution_count": 6,
   "metadata": {},
   "outputs": [],
   "source": [
    "def r2_score(y, y_pred):\n",
    "    return 1 - np.sum((y - y_pred)**2) / np.sum((y - np.mean(y))**2)"
   ]
  },
  {
   "cell_type": "markdown",
   "metadata": {},
   "source": [
    "# Models implementation\n",
    "\n",
    "### Linear Regression model"
   ]
  },
  {
   "cell_type": "code",
   "execution_count": 7,
   "metadata": {},
   "outputs": [],
   "source": [
    "class LinearRegression:\n",
    "    def __init__(self):\n",
    "        pass\n",
    "    \n",
    "    def fit(self, X, y):\n",
    "        self.X = np.array(X)\n",
    "        self.y = np.array(y)\n",
    "        self.w = np.linalg.inv(self.X.T @ self.X) @ (self.X.T @ self.y)\n",
    "        \n",
    "    def predict(self, X):\n",
    "        self.pred = np.array(X) @ self.w\n",
    "    \n",
    "    def train_MSE(self):\n",
    "        return mean_squared_error(np.array(self.X) @ self.w, self.y)\n",
    "    \n",
    "    def test_MSE(self, y):\n",
    "        return mean_squared_error(self.pred, y)\n",
    "    \n",
    "    def r2_score(self):\n",
    "        return r2_score(self.y, np.array(self.X) @ self.w)\n",
    "    \n",
    "    def show_coef(self):\n",
    "        return self.w\n",
    "    \n",
    "    def show_predict(self):\n",
    "        return self.pred"
   ]
  },
  {
   "cell_type": "markdown",
   "metadata": {},
   "source": [
    "## KNN Implementation"
   ]
  },
  {
   "cell_type": "code",
   "execution_count": 8,
   "metadata": {},
   "outputs": [],
   "source": [
    "class MyKNN:\n",
    "    def __init__(self, metric=\"euclid\"):\n",
    "        if metric not in ['euclid', 'Manhattan', 'Minkowski']:\n",
    "            raise ValueError('Choose correct metric from euclid, Manhattan')\n",
    "        self.method = metric\n",
    "        \n",
    "    def fit(self, X_tr, y_tr):\n",
    "        self.data = np.array(X_tr)\n",
    "        self.resp = np.array(y_tr)\n",
    "\n",
    "    def predict(self, X_te, n_neigh = 1, n_mink = 2): # Choose the number of neighbours\n",
    "        if self.method == 'euclid':\n",
    "            response = np.argsort(np.abs(np.sum((self.data[np.newaxis, :] - np.array(X_te)[:, np.newaxis])**2, axis =2))**0.5, axis = 1)[:, :n_neigh]\n",
    "        if self.method == 'Manhattan':\n",
    "            response = np.argsort(np.abs(np.sum((self.data[np.newaxis, :] - np.array(X_te)[:, np.newaxis]), axis =2)), axis = 1)[:, :n_neigh]\n",
    "        if self.method == 'Minkowski':\n",
    "            response = np.argsort(np.abs(np.sum((self.data[np.newaxis, :] - np.array(X_te)[:, np.newaxis])**n_mink, axis =2))**(1/n_mink), axis = 1)[:, :n_neigh]\n",
    "        self.prediction = np.mean(self.resp[response], axis = 1)\n",
    "        return self.prediction\n",
    "    \n",
    "    def r2_score(self):\n",
    "        return r2_score(self.resp, self.prediction)"
   ]
  },
  {
   "cell_type": "markdown",
   "metadata": {},
   "source": [
    "## Decision Tree"
   ]
  },
  {
   "cell_type": "markdown",
   "metadata": {},
   "source": [
    "First and foremost, defining functions of criterion (here is MSE implementation), spliting, recursive spliting and tree itself.\n",
    "The author is greatful to Jason Brownlee, whose tutorial was very usefull for implemeting the algorithm. Link: https://machinelearningmastery.com/"
   ]
  },
  {
   "cell_type": "code",
   "execution_count": 9,
   "metadata": {},
   "outputs": [],
   "source": [
    "# Computing the difference in variations between initial array and its right and left parts\n",
    "def split_var(arr1, arr2):\n",
    "    total_len = len(np.append(arr1, arr2))\n",
    "    total_var = np.var(np.append(arr1, arr2))\n",
    "    return total_var - len(arr1)/total_len * np.var(arr1) - len(arr2) / total_len * np.var(arr2)\n",
    "\n",
    "# Making a split of data into two parts by given index and threshold\n",
    "def spliting(data, index, threshold):\n",
    "    left, right = [], []\n",
    "    for row in data:\n",
    "        if row[index] < threshold:\n",
    "            left += [row]\n",
    "        else:\n",
    "            right += [row]\n",
    "    return np.array(left), np.array(right)\n",
    "\n",
    "# Making a greed split (when the difference in variance between initial dataset and its part is maximum)\n",
    "def greed_split_reg(data):\n",
    "    split_index, split_value, split_score, split_groups = None, None, 0, None\n",
    "    for index in range(len(data[0]) - 1): #\n",
    "        for arr in data:\n",
    "            branch1, branch2 = spliting(data, index, arr[index])\n",
    "            var = split_var(branch1, branch2)\n",
    "            if var > split_score:\n",
    "                split_index, split_value, split_score, split_groups = index, arr[index], var, (branch1, branch2)\n",
    "    return {'index':split_index, 'value':split_value, 'groups': split_groups}\n",
    "\n",
    "# Return answer from leaf\n",
    "def return_answ(group):\n",
    "    outcome = [row[-1] for row in group]\n",
    "    return sum(outcome) / len(outcome)\n",
    "\n",
    "# Recursive call of greed splits on left and right part. Criterion of break are maximum depth of tree and minimum size of data in node\n",
    "def split(node, max_depth, min_size, depth):\n",
    "\n",
    "    if node['groups'] == None:\n",
    "        return node['value']\n",
    "    left, right = node['groups']\n",
    "    del(node['groups'])\n",
    "    # If it is leaf, return answer\n",
    "    if left == [] or right == []:\n",
    "        node['left'] = node['right'] = return_answ(left + right)\n",
    "    # If the depth of a tree is bigger than max_depth, return answer\n",
    "    if depth >= max_depth:\n",
    "        node['left'], node['right'] = return_answ(left), return_answ(right)\n",
    "    \n",
    "    \n",
    "    # If we achive min_size of our data just return an answer\n",
    "    if len(left) <= min_size:\n",
    "        node['left'] = return_answ(left)\n",
    "    else:\n",
    "        node['left'] = greed_split_reg(left)\n",
    "        split(node['left'], max_depth, min_size, depth + 1)\n",
    "    \n",
    "    if len(right) <= min_size:\n",
    "        node['right'] = return_answ(right)\n",
    "    else:\n",
    "        node['right'] = greed_split_reg(right)\n",
    "        split(node['right'], max_depth, min_size, depth + 1)\n",
    "\n",
    "# Building a tree by recursive splits\n",
    "def build_tree(train, max_depth, min_size):\n",
    "    root = greed_split_reg(train)\n",
    "    split(root, max_depth, min_size, 1)\n",
    "    return root\n",
    "\n",
    "# Making a prediction on new data\n",
    "def pred_reg(node, arr):\n",
    "    if arr[node['index']] < node['value']:\n",
    "        if isinstance(node['left'], dict):\n",
    "            return pred_reg(node['left'], arr)\n",
    "        else:\n",
    "            return node['left']\n",
    "    else:\n",
    "        if isinstance(node['right'], dict):\n",
    "            return pred_reg(node['right'], arr)\n",
    "        else:\n",
    "            return node['right']"
   ]
  },
  {
   "cell_type": "code",
   "execution_count": 10,
   "metadata": {},
   "outputs": [],
   "source": [
    "class TreeRegression:\n",
    "    def __init__(self, max_depth = 10, min_size = 1, criterion = 'variance'):\n",
    "        self.max_depth = max_depth\n",
    "        self.min_size = min_size\n",
    "        self.criterion = criterion\n",
    "    \n",
    "    def fit(self, X, y):\n",
    "        data_train = np.concatenate([np.array(X), np.array(y).reshape(-1, 1)], axis = 1)\n",
    "        self.tree = build_tree(data_train, self.max_depth, self.min_size)\n",
    "        \n",
    "    def predict(self, X):\n",
    "        pred_list = []\n",
    "        for arr in np.array(X):\n",
    "            pred_list += [pred_reg(self.tree, arr)]\n",
    "        return np.array(pred_list)"
   ]
  },
  {
   "cell_type": "markdown",
   "metadata": {},
   "source": [
    "# Bagging"
   ]
  },
  {
   "cell_type": "code",
   "execution_count": 11,
   "metadata": {},
   "outputs": [],
   "source": [
    "class MyBagging:\n",
    "    \n",
    "    def __init__(self, num_estimators):\n",
    "        self.n = num_estimators\n",
    "        \n",
    "    def fit(self, X, y):\n",
    "        self.X = np.array(X)\n",
    "        self.y = np.array(y)\n",
    "        \n",
    "        list_trees = []\n",
    "        for i in range(self.n):\n",
    "            indices = np.random.randint(0, high = self.X.shape[0], size = self.X.shape[0])\n",
    "            model = DTR() # Here standart Decision tree from sklearn is used as it fits much faster\n",
    "            model.fit(self.X[indices], self.y[indices])\n",
    "            list_trees += [model]\n",
    "        self.list = list_trees\n",
    "    \n",
    "    def predict(self, X):\n",
    "        self.Test = X\n",
    "        pred_list = []\n",
    "        for i in self.list:\n",
    "            pred = i.predict(self.Test)\n",
    "            pred_list += [pred]\n",
    "        pred_list = np.array(pred_list)\n",
    "        ult_pred = np.mean(pred_list, axis = 0)\n",
    "        return ult_pred"
   ]
  },
  {
   "cell_type": "markdown",
   "metadata": {},
   "source": [
    "# Boosting"
   ]
  },
  {
   "cell_type": "code",
   "execution_count": 12,
   "metadata": {},
   "outputs": [],
   "source": [
    "class MyBoosting:\n",
    "    \n",
    "    def __init__(self, num_estimators, loss='mse', step=1/50):\n",
    "        \n",
    "        self.n = num_estimators\n",
    "        self.loss = loss\n",
    "        self.step = step\n",
    "        \n",
    "    def fit(self, X, y):\n",
    "        self.clfs = [] \n",
    "        s = y\n",
    "        \n",
    "        for i in range(self.n):\n",
    "            clf = DTR(max_depth=2) # Here standart Decision tree from sklearn is used as it fits much faster\n",
    "            clf.fit(X, s)\n",
    "            self.clfs.append(clf)\n",
    "            if self.loss == 'mse':\n",
    "                s = 2*(y - self.predict(X))\n",
    "            elif self.loss == 'mae':\n",
    "                s = np.sign(y - self.predict(X))\n",
    "            \n",
    "    def predict(self, X):\n",
    "        preds = None\n",
    "        \n",
    "        for clf in self.clfs:\n",
    "            pred = clf.predict(X)\n",
    "            if preds is None:\n",
    "                preds = pred * self.step\n",
    "            else:\n",
    "                preds += pred * self.step\n",
    "                \n",
    "        return preds"
   ]
  },
  {
   "cell_type": "markdown",
   "metadata": {},
   "source": [
    "# Strategy of building the model."
   ]
  },
  {
   "cell_type": "markdown",
   "metadata": {},
   "source": [
    "Although building the model of bilateral trade between all countries in the world seems (to be) being sophisticated and heavy for the computation, the new strategy was provided. In this example the algorithm will be learnt only on sub-sample of two countries (Czech Republic and Kenya, which were chosen randomly).  \n",
    "Firstly, the model will learn how Czech Republic trades with its trade partners. Then the same will be done with Kenya's trade partners. Finally, the model will predict the value of bilateral trade between these two countries between 2008 - 2015 years"
   ]
  },
  {
   "cell_type": "markdown",
   "metadata": {},
   "source": [
    "The initial dataset provides several geographical variables, such as distance. But as the model was learnt on small sub-sample, the number of features were reduced.\n",
    "\n",
    "Features: distance, GDP (in constant price), population, landlocked or not, having any trade agreements or not, is country a member of EU, are both countries members of WTO. Each feature were logged before applying an algorithm."
   ]
  },
  {
   "cell_type": "markdown",
   "metadata": {},
   "source": [
    "# Import Dataset for Czech"
   ]
  },
  {
   "cell_type": "code",
   "execution_count": 13,
   "metadata": {},
   "outputs": [],
   "source": [
    "data_total = pd.read_excel('https://github.com/AFigaro/Gravity-model-of-trade/blob/master/dataset.xlsx?raw=true')"
   ]
  },
  {
   "cell_type": "markdown",
   "metadata": {},
   "source": [
    "__Splitting data for train and test__"
   ]
  },
  {
   "cell_type": "code",
   "execution_count": 14,
   "metadata": {},
   "outputs": [],
   "source": [
    "X = data_total.drop(['Trade_val'], axis = 1)\n",
    "y = data_total.Trade_val\n",
    "                             \n",
    "                             \n",
    "X_train, X_test, y_train, y_test = tts(X.drop(['year', 'country_d', 'country_o'], axis = 1), y, random_state = 42, test_size = 0.1)"
   ]
  },
  {
   "cell_type": "markdown",
   "metadata": {},
   "source": [
    "# Applying different models to predict trade value for Czech Republic\n",
    "\n",
    "__Linear Regression__"
   ]
  },
  {
   "cell_type": "code",
   "execution_count": 15,
   "metadata": {},
   "outputs": [
    {
     "name": "stdout",
     "output_type": "stream",
     "text": [
      "Train error:  0.457899780088676\n",
      "Test erroe:  0.11609289729783634\n",
      "R^2 score:  0.9450913043278731\n"
     ]
    }
   ],
   "source": [
    "my_LR = LinearRegression()\n",
    "my_LR.fit(X_train, y_train)\n",
    "my_LR.predict(X_test)\n",
    "print('Train error: ', my_LR.train_MSE())\n",
    "print('Test erroe: ', my_LR.test_MSE(y_test))\n",
    "print('R^2 score: ', my_LR.r2_score())"
   ]
  },
  {
   "cell_type": "markdown",
   "metadata": {},
   "source": [
    "__KNN__"
   ]
  },
  {
   "cell_type": "code",
   "execution_count": 16,
   "metadata": {},
   "outputs": [
    {
     "name": "stdout",
     "output_type": "stream",
     "text": [
      "Train error:  0.22765974311745318\n",
      "Test error:  0.1894113989278628\n",
      "R^2 score:  0.9880492565315205\n"
     ]
    }
   ],
   "source": [
    "my_KNN = MyKNN()\n",
    "my_KNN.fit(X_train, y_train)\n",
    "y_pred = my_KNN.predict(X_test, 5)\n",
    "print('Train error: ', mean_squared_error(my_KNN.predict(X_train, 5), y_train))\n",
    "print('Test error: ', mean_squared_error(y_pred, y_test))\n",
    "\n",
    "print('R^2 score: ', r2_score(y_test, my_KNN.predict(X_test)))"
   ]
  },
  {
   "cell_type": "markdown",
   "metadata": {},
   "source": [
    "__Decision tree__"
   ]
  },
  {
   "cell_type": "code",
   "execution_count": 17,
   "metadata": {},
   "outputs": [
    {
     "name": "stdout",
     "output_type": "stream",
     "text": [
      "Train error:  0.25560096475326216\n",
      "Test error:  1.8876252659521322\n",
      "R^2 score:  0.8238603600250869\n"
     ]
    }
   ],
   "source": [
    "my_DT = TreeRegression(max_depth = 5, min_size = 2)\n",
    "my_DT.fit(X_train, y_train)\n",
    "print('Train error: ', mean_squared_error(y_train, my_DT.predict(X_train)))\n",
    "print('Test error: ', mean_squared_error(y_test, my_DT.predict(X_test)))\n",
    "\n",
    "print('R^2 score: ', r2_score(y_test, my_DT.predict(X_test)))"
   ]
  },
  {
   "cell_type": "markdown",
   "metadata": {},
   "source": [
    "__Bagging__"
   ]
  },
  {
   "cell_type": "code",
   "execution_count": 18,
   "metadata": {},
   "outputs": [
    {
     "name": "stdout",
     "output_type": "stream",
     "text": [
      "Train error:  0.05404047334259352\n",
      "Test error:  0.16416711635000053\n",
      "R^2 score:  0.9846811031346187\n"
     ]
    }
   ],
   "source": [
    "mybag = MyBagging(num_estimators = 500)\n",
    "mybag.fit(X_train, y_train)\n",
    "y_pred = mybag.predict(X_test)\n",
    "\n",
    "print('Train error: ', mean_squared_error(mybag.predict(X_train), y_train))\n",
    "print('Test error: ', mean_squared_error(y_pred, y_test))\n",
    "\n",
    "print('R^2 score: ', r2_score(y_test, mybag.predict(X_test)))"
   ]
  },
  {
   "cell_type": "markdown",
   "metadata": {},
   "source": [
    "__Boosting__"
   ]
  },
  {
   "cell_type": "code",
   "execution_count": 19,
   "metadata": {},
   "outputs": [
    {
     "name": "stdout",
     "output_type": "stream",
     "text": [
      "Train error:  0.2603210698793327\n",
      "Test error:  0.2260944081207138\n",
      "R^2 score:  0.9789024927960815\n"
     ]
    }
   ],
   "source": [
    "newboost = MyBoosting(num_estimators = 100)\n",
    "newboost.fit(X_train, y_train)\n",
    "new_y_pred = newboost.predict(X_test)\n",
    "\n",
    "print('Train error: ', mean_squared_error(newboost.predict(X_train), y_train))\n",
    "print('Test error: ', mean_squared_error(new_y_pred, y_test))\n",
    "\n",
    "print('R^2 score: ', r2_score(y_test, new_y_pred))"
   ]
  },
  {
   "cell_type": "markdown",
   "metadata": {},
   "source": [
    "__Prediction with Kenya__"
   ]
  },
  {
   "cell_type": "code",
   "execution_count": 20,
   "metadata": {},
   "outputs": [],
   "source": [
    "data_cz_ken = pd.read_excel('https://github.com/AFigaro/Gravity-model-of-trade/blob/master/czech_test.xlsx?raw=true').drop(['landlocked_d', 'member_eu_d', 'country_d', 'country_o', 'year'], axis = 1)\n",
    "\n",
    "\n",
    "float_feat = ['pop_d', 'pop_o', 'gdp_wdi_const_d', 'gdp_wdi_const_o', 'distance', 'Trade_val']\n",
    "pop_feat = ['pop_d', 'pop_o',]\n",
    "\n",
    "data_cz_ken[pop_feat] = data_cz_ken[pop_feat].applymap(lambda x: x * 1000000)\n",
    "\n",
    "\n",
    "data_cz_ken[float_feat] = data_cz_ken[float_feat].applymap(lambda x: np.log(x))\n",
    "real_value = data_cz_ken['Trade_val']"
   ]
  },
  {
   "cell_type": "markdown",
   "metadata": {},
   "source": [
    "__Linear Regression__"
   ]
  },
  {
   "cell_type": "code",
   "execution_count": 21,
   "metadata": {},
   "outputs": [
    {
     "name": "stdout",
     "output_type": "stream",
     "text": [
      "Mean squared error:  0.28371987171924384\n"
     ]
    }
   ],
   "source": [
    "my_LR = LinearRegression()\n",
    "my_LR.fit(X_train, y_train)\n",
    "my_LR.predict(np.array(data_cz_ken.drop('Trade_val', axis = 1)))\n",
    "print('Mean squared error: ', mean_squared_error(real_value, my_LR.show_predict()))"
   ]
  },
  {
   "cell_type": "markdown",
   "metadata": {},
   "source": [
    "__KNN__"
   ]
  },
  {
   "cell_type": "code",
   "execution_count": 22,
   "metadata": {},
   "outputs": [
    {
     "name": "stdout",
     "output_type": "stream",
     "text": [
      "Mean squared error:  0.46675006934616536\n"
     ]
    }
   ],
   "source": [
    "pred = my_KNN.predict(np.array(data_cz_ken.drop('Trade_val', axis = 1)), 5)\n",
    "print('Mean squared error: ', mean_squared_error(real_value, pred))"
   ]
  },
  {
   "cell_type": "markdown",
   "metadata": {},
   "source": [
    "__Decision tree__"
   ]
  },
  {
   "cell_type": "code",
   "execution_count": 23,
   "metadata": {},
   "outputs": [
    {
     "name": "stdout",
     "output_type": "stream",
     "text": [
      "Mean squared error:  1.9578754440232689\n"
     ]
    }
   ],
   "source": [
    "pred = my_DT.predict(np.array(data_cz_ken.drop('Trade_val', axis = 1)))\n",
    "print('Mean squared error: ', mean_squared_error(real_value, pred))"
   ]
  },
  {
   "cell_type": "markdown",
   "metadata": {},
   "source": [
    "__Bagging__"
   ]
  },
  {
   "cell_type": "code",
   "execution_count": 24,
   "metadata": {},
   "outputs": [
    {
     "name": "stdout",
     "output_type": "stream",
     "text": [
      "Mean squared error:  0.6857312367877166\n"
     ]
    }
   ],
   "source": [
    "pred = mybag.predict(np.array(data_cz_ken.drop('Trade_val', axis = 1)))\n",
    "print('Mean squared error: ', mean_squared_error(real_value, pred))"
   ]
  },
  {
   "cell_type": "markdown",
   "metadata": {},
   "source": [
    "__Boosting__"
   ]
  },
  {
   "cell_type": "code",
   "execution_count": 25,
   "metadata": {},
   "outputs": [
    {
     "name": "stdout",
     "output_type": "stream",
     "text": [
      "Mean squared error:  0.3173378346367351\n"
     ]
    }
   ],
   "source": [
    "pred = newboost.predict(np.array(data_cz_ken.drop('Trade_val', axis = 1)))\n",
    "print('Mean squared error: ', mean_squared_error(real_value, pred))"
   ]
  },
  {
   "cell_type": "markdown",
   "metadata": {},
   "source": [
    "# Import data for Kenya"
   ]
  },
  {
   "cell_type": "code",
   "execution_count": 26,
   "metadata": {},
   "outputs": [],
   "source": [
    "data_kenya = pd.read_excel('https://github.com/AFigaro/Gravity-model-of-trade/blob/master/dataset_kenya.xlsx?raw=true').drop(['rate_a', 'rate_b', 'rate_c'], axis = 1)"
   ]
  },
  {
   "cell_type": "code",
   "execution_count": 27,
   "metadata": {},
   "outputs": [
    {
     "data": {
      "text/html": [
       "<div>\n",
       "<style scoped>\n",
       "    .dataframe tbody tr th:only-of-type {\n",
       "        vertical-align: middle;\n",
       "    }\n",
       "\n",
       "    .dataframe tbody tr th {\n",
       "        vertical-align: top;\n",
       "    }\n",
       "\n",
       "    .dataframe thead th {\n",
       "        text-align: right;\n",
       "    }\n",
       "</style>\n",
       "<table border=\"1\" class=\"dataframe\">\n",
       "  <thead>\n",
       "    <tr style=\"text-align: right;\">\n",
       "      <th></th>\n",
       "      <th>year</th>\n",
       "      <th>country_d</th>\n",
       "      <th>country_o</th>\n",
       "      <th>pop_d</th>\n",
       "      <th>pop_o</th>\n",
       "      <th>gdp_wdi_const_d</th>\n",
       "      <th>gdp_wdi_const_o</th>\n",
       "      <th>landlocked_o</th>\n",
       "      <th>agree_pta</th>\n",
       "      <th>member_eu_o</th>\n",
       "      <th>member_wto_joint</th>\n",
       "      <th>distance</th>\n",
       "      <th>Trade_val</th>\n",
       "    </tr>\n",
       "  </thead>\n",
       "  <tbody>\n",
       "    <tr>\n",
       "      <th>353708</th>\n",
       "      <td>2005</td>\n",
       "      <td>Kenya</td>\n",
       "      <td>Cyprus</td>\n",
       "      <td>17.380782</td>\n",
       "      <td>13.512431</td>\n",
       "      <td>24.167624</td>\n",
       "      <td>23.840067</td>\n",
       "      <td>0</td>\n",
       "      <td>0</td>\n",
       "      <td>1</td>\n",
       "      <td>1</td>\n",
       "      <td>8.308133</td>\n",
       "      <td>7.150701</td>\n",
       "    </tr>\n",
       "    <tr>\n",
       "      <th>353924</th>\n",
       "      <td>2006</td>\n",
       "      <td>Kenya</td>\n",
       "      <td>Cyprus</td>\n",
       "      <td>17.406943</td>\n",
       "      <td>13.529114</td>\n",
       "      <td>24.230341</td>\n",
       "      <td>23.884181</td>\n",
       "      <td>0</td>\n",
       "      <td>0</td>\n",
       "      <td>1</td>\n",
       "      <td>1</td>\n",
       "      <td>8.308133</td>\n",
       "      <td>6.834109</td>\n",
       "    </tr>\n",
       "    <tr>\n",
       "      <th>354136</th>\n",
       "      <td>2007</td>\n",
       "      <td>Kenya</td>\n",
       "      <td>Cyprus</td>\n",
       "      <td>17.433177</td>\n",
       "      <td>13.550405</td>\n",
       "      <td>24.296603</td>\n",
       "      <td>23.931262</td>\n",
       "      <td>0</td>\n",
       "      <td>0</td>\n",
       "      <td>1</td>\n",
       "      <td>1</td>\n",
       "      <td>8.308133</td>\n",
       "      <td>7.199678</td>\n",
       "    </tr>\n",
       "    <tr>\n",
       "      <th>354522</th>\n",
       "      <td>2008</td>\n",
       "      <td>Kenya</td>\n",
       "      <td>Cyprus</td>\n",
       "      <td>17.459509</td>\n",
       "      <td>13.575516</td>\n",
       "      <td>24.298923</td>\n",
       "      <td>23.969174</td>\n",
       "      <td>0</td>\n",
       "      <td>0</td>\n",
       "      <td>1</td>\n",
       "      <td>1</td>\n",
       "      <td>8.308133</td>\n",
       "      <td>6.621406</td>\n",
       "    </tr>\n",
       "    <tr>\n",
       "      <th>354758</th>\n",
       "      <td>2009</td>\n",
       "      <td>Kenya</td>\n",
       "      <td>Cyprus</td>\n",
       "      <td>17.485971</td>\n",
       "      <td>13.602361</td>\n",
       "      <td>24.331458</td>\n",
       "      <td>23.951291</td>\n",
       "      <td>0</td>\n",
       "      <td>0</td>\n",
       "      <td>1</td>\n",
       "      <td>1</td>\n",
       "      <td>8.308133</td>\n",
       "      <td>7.203406</td>\n",
       "    </tr>\n",
       "  </tbody>\n",
       "</table>\n",
       "</div>"
      ],
      "text/plain": [
       "        year country_d country_o      pop_d      pop_o  gdp_wdi_const_d  \\\n",
       "353708  2005     Kenya    Cyprus  17.380782  13.512431        24.167624   \n",
       "353924  2006     Kenya    Cyprus  17.406943  13.529114        24.230341   \n",
       "354136  2007     Kenya    Cyprus  17.433177  13.550405        24.296603   \n",
       "354522  2008     Kenya    Cyprus  17.459509  13.575516        24.298923   \n",
       "354758  2009     Kenya    Cyprus  17.485971  13.602361        24.331458   \n",
       "\n",
       "        gdp_wdi_const_o  landlocked_o  agree_pta  member_eu_o  \\\n",
       "353708        23.840067             0          0            1   \n",
       "353924        23.884181             0          0            1   \n",
       "354136        23.931262             0          0            1   \n",
       "354522        23.969174             0          0            1   \n",
       "354758        23.951291             0          0            1   \n",
       "\n",
       "        member_wto_joint  distance  Trade_val  \n",
       "353708                 1  8.308133   7.150701  \n",
       "353924                 1  8.308133   6.834109  \n",
       "354136                 1  8.308133   7.199678  \n",
       "354522                 1  8.308133   6.621406  \n",
       "354758                 1  8.308133   7.203406  "
      ]
     },
     "execution_count": 27,
     "metadata": {},
     "output_type": "execute_result"
    }
   ],
   "source": [
    "data_kenya.head()"
   ]
  },
  {
   "cell_type": "code",
   "execution_count": 28,
   "metadata": {},
   "outputs": [],
   "source": [
    "data_kenya.dropna(inplace = True)\n",
    "\n",
    "\n",
    "X = data_kenya.drop('Trade_val', axis = 1)\n",
    "y = data_kenya.Trade_val\n",
    "\n",
    "                             \n",
    "                          \n",
    "X_train, X_test, y_train, y_test = tts(X.drop(['year', 'country_d', 'country_o'], axis = 1), y, random_state = 42, test_size = 0.1)"
   ]
  },
  {
   "cell_type": "markdown",
   "metadata": {},
   "source": [
    "# Applying different models to predict trade value for Kenya\n",
    "\n",
    "__Linear Regression__"
   ]
  },
  {
   "cell_type": "code",
   "execution_count": 29,
   "metadata": {},
   "outputs": [
    {
     "name": "stdout",
     "output_type": "stream",
     "text": [
      "Train error:  1.865450816592639\n",
      "Test error:  1.9188024014704075\n",
      "R^2 score:  0.6106513424476122\n"
     ]
    }
   ],
   "source": [
    "my_LR = LinearRegression()\n",
    "my_LR.fit(X_train, y_train)\n",
    "my_LR.predict(X_test)\n",
    "print('Train error: ', my_LR.train_MSE())\n",
    "print('Test error: ', my_LR.test_MSE(y_test))\n",
    "print('R^2 score: ', my_LR.r2_score())"
   ]
  },
  {
   "cell_type": "markdown",
   "metadata": {},
   "source": [
    "__KNN__"
   ]
  },
  {
   "cell_type": "code",
   "execution_count": 30,
   "metadata": {},
   "outputs": [
    {
     "name": "stdout",
     "output_type": "stream",
     "text": [
      "Train error:  0.5353387697273321\n",
      "Test error:  0.42090956019195025\n",
      "R^2 score:  0.8432447042075314\n"
     ]
    }
   ],
   "source": [
    "my_KNN = MyKNN()\n",
    "my_KNN.fit(X_train, y_train)\n",
    "y_pred = my_KNN.predict(X_test, 5)\n",
    "print('Train error: ', mean_squared_error(my_KNN.predict(X_train, 5), y_train))\n",
    "print('Test error: ', mean_squared_error(y_pred, y_test))\n",
    "\n",
    "print('R^2 score: ', r2_score(y_test, my_KNN.predict(X_test)))"
   ]
  },
  {
   "cell_type": "markdown",
   "metadata": {},
   "source": [
    "__Decision tree__"
   ]
  },
  {
   "cell_type": "code",
   "execution_count": 31,
   "metadata": {},
   "outputs": [
    {
     "name": "stdout",
     "output_type": "stream",
     "text": [
      "Train error:  0.08568525889320705\n",
      "Test error:  0.7858612211187151\n",
      "R^2 score:  0.7625656810268513\n"
     ]
    }
   ],
   "source": [
    "my_LR = TreeRegression(max_depth = 5, min_size = 2)\n",
    "my_LR.fit(X_train, y_train)\n",
    "print('Train error: ', mean_squared_error(y_train, my_LR.predict(X_train)))\n",
    "print('Test error: ', mean_squared_error(y_test, my_LR.predict(X_test)))\n",
    "\n",
    "print('R^2 score: ', r2_score(y_test, my_LR.predict(X_test)))"
   ]
  },
  {
   "cell_type": "markdown",
   "metadata": {},
   "source": [
    "__Bagging__"
   ]
  },
  {
   "cell_type": "code",
   "execution_count": 32,
   "metadata": {},
   "outputs": [
    {
     "name": "stdout",
     "output_type": "stream",
     "text": [
      "Train error:  0.110876147906352\n",
      "Test error:  0.45116965800788\n",
      "R^2 score:  0.8636869238337604\n"
     ]
    }
   ],
   "source": [
    "mybag = MyBagging(num_estimators = 500)\n",
    "mybag.fit(X_train, y_train)\n",
    "y_pred = mybag.predict(X_test)\n",
    "\n",
    "print('Train error: ', mean_squared_error(mybag.predict(X_train), y_train))\n",
    "print('Test error: ', mean_squared_error(y_pred, y_test))\n",
    "\n",
    "print('R^2 score: ', r2_score(y_test, mybag.predict(X_test)))"
   ]
  },
  {
   "cell_type": "markdown",
   "metadata": {},
   "source": [
    "__Boosting__"
   ]
  },
  {
   "cell_type": "code",
   "execution_count": 33,
   "metadata": {},
   "outputs": [
    {
     "name": "stdout",
     "output_type": "stream",
     "text": [
      "Train error:  0.760235829451136\n",
      "Test error:  0.8422567923704912\n",
      "R^2 score:  0.7455267386621862\n"
     ]
    }
   ],
   "source": [
    "newboost = MyBoosting(num_estimators = 100)\n",
    "newboost.fit(X_train, y_train)\n",
    "new_y_pred = newboost.predict(X_test)\n",
    "\n",
    "print('Train error: ', mean_squared_error(newboost.predict(X_train), y_train))\n",
    "print('Test error: ', mean_squared_error(new_y_pred, y_test))\n",
    "\n",
    "print('R^2 score: ', r2_score(y_test, new_y_pred))"
   ]
  },
  {
   "cell_type": "markdown",
   "metadata": {},
   "source": [
    "__Prediction with Czech Republic__"
   ]
  },
  {
   "cell_type": "code",
   "execution_count": 34,
   "metadata": {},
   "outputs": [],
   "source": [
    "data_ken_cz = pd.read_excel('https://github.com/AFigaro/Gravity-model-of-trade/blob/master/kenya_test.xlsx?raw=true').drop(['landlocked_d', 'member_eu_d', 'country_d', 'country_o', 'year'], axis = 1)\n",
    "\n",
    "\n",
    "float_feat = ['pop_d', 'pop_o', 'gdp_wdi_const_d', 'gdp_wdi_const_o', 'distance', 'Trade_val']\n",
    "pop_feat = ['pop_d', 'pop_o',]\n",
    "\n",
    "data_ken_cz[pop_feat] = data_ken_cz[pop_feat].applymap(lambda x: x * 1000000)\n",
    "\n",
    "\n",
    "data_ken_cz[float_feat] = data_ken_cz[float_feat].applymap(lambda x: np.log(x))\n",
    "real_value = data_ken_cz['Trade_val']"
   ]
  },
  {
   "cell_type": "markdown",
   "metadata": {},
   "source": [
    "__Linear Regression__"
   ]
  },
  {
   "cell_type": "code",
   "execution_count": 35,
   "metadata": {},
   "outputs": [
    {
     "name": "stdout",
     "output_type": "stream",
     "text": [
      "Mean squared error:  2.376171843396898\n"
     ]
    }
   ],
   "source": [
    "my_LR = LinearRegression()\n",
    "my_LR.fit(X_train, y_train)\n",
    "my_LR.predict(np.array(data_ken_cz.drop('Trade_val', axis = 1)))\n",
    "print('Mean squared error: ', mean_squared_error(real_value, my_LR.show_predict()))"
   ]
  },
  {
   "cell_type": "markdown",
   "metadata": {},
   "source": [
    "__KNN__"
   ]
  },
  {
   "cell_type": "code",
   "execution_count": 36,
   "metadata": {},
   "outputs": [
    {
     "name": "stdout",
     "output_type": "stream",
     "text": [
      "Mean squared error:  0.7385657087068386\n"
     ]
    }
   ],
   "source": [
    "pred = my_KNN.predict(np.array(data_ken_cz.drop('Trade_val', axis = 1)), 5)\n",
    "print('Mean squared error: ', mean_squared_error(real_value, pred))"
   ]
  },
  {
   "cell_type": "markdown",
   "metadata": {},
   "source": [
    "__Decision Tree__"
   ]
  },
  {
   "cell_type": "code",
   "execution_count": 37,
   "metadata": {},
   "outputs": [
    {
     "name": "stdout",
     "output_type": "stream",
     "text": [
      "Mean squared error:  16.743875134536744\n"
     ]
    }
   ],
   "source": [
    "pred = my_DT.predict(np.array(data_ken_cz.drop('Trade_val', axis = 1)))\n",
    "print('Mean squared error: ', mean_squared_error(real_value, pred))"
   ]
  },
  {
   "cell_type": "markdown",
   "metadata": {},
   "source": [
    "__Bagging__"
   ]
  },
  {
   "cell_type": "code",
   "execution_count": 38,
   "metadata": {},
   "outputs": [
    {
     "name": "stdout",
     "output_type": "stream",
     "text": [
      "Mean squared error:  1.0803731036357866\n"
     ]
    }
   ],
   "source": [
    "pred = mybag.predict(np.array(data_ken_cz.drop('Trade_val', axis = 1)))\n",
    "print('Mean squared error: ', mean_squared_error(real_value, pred))"
   ]
  },
  {
   "cell_type": "markdown",
   "metadata": {},
   "source": [
    "__Boosting__"
   ]
  },
  {
   "cell_type": "code",
   "execution_count": 39,
   "metadata": {},
   "outputs": [
    {
     "name": "stdout",
     "output_type": "stream",
     "text": [
      "Mean squared error:  2.176413550090136\n"
     ]
    }
   ],
   "source": [
    "pred = newboost.predict(np.array(data_ken_cz.drop('Trade_val', axis = 1)))\n",
    "print('Mean squared error: ', mean_squared_error(real_value, pred))"
   ]
  },
  {
   "cell_type": "markdown",
   "metadata": {},
   "source": [
    "# Trade plots"
   ]
  },
  {
   "cell_type": "code",
   "execution_count": 40,
   "metadata": {},
   "outputs": [
    {
     "data": {
      "text/plain": [
       "Text(0, 0.5, 'Value')"
      ]
     },
     "execution_count": 40,
     "metadata": {},
     "output_type": "execute_result"
    },
    {
     "data": {
      "image/png": "[encoded data removed]",
      "text/plain": [
       "<Figure size 576x576 with 1 Axes>"
      ]
     },
     "metadata": {
      "needs_background": "light"
     },
     "output_type": "display_data"
    }
   ],
   "source": [
    "pylab.figure(figsize(8, 8))\n",
    "y = np.array([4990, 5000, 5489, 12558, 19414, 27648, 21297, 20384, 24626, 28168, 20611, 22509, 39473])\n",
    "years = np.linspace(2005, 2017, 13)\n",
    "pylab.bar(years, y)\n",
    "m,b = polyfit(years, y, 1)\n",
    "\n",
    "pylab.plot(years, y, 'yo', years, m*years+b, '--k', color = 'green')\n",
    "pylab.title('Trade value from Czech to Kenya', fontsize=15)\n",
    "pylab.xlabel('years', fontsize=14)\n",
    "pylab.ylabel('Value', fontsize=14)"
   ]
  },
  {
   "cell_type": "code",
   "execution_count": 41,
   "metadata": {},
   "outputs": [
    {
     "data": {
      "text/plain": [
       "Text(0, 0.5, 'Value')"
      ]
     },
     "execution_count": 41,
     "metadata": {},
     "output_type": "execute_result"
    },
    {
     "data": {
      "image/png": "[encoded data removed]",
      "text/plain": [
       "<Figure size 576x576 with 1 Axes>"
      ]
     },
     "metadata": {
      "needs_background": "light"
     },
     "output_type": "display_data"
    }
   ],
   "source": [
    "pylab.figure(figsize(8, 8))\n",
    "y = np.array([160, 444, 697, 725, 550, 256, 854, 191, 129, 1526, 842, 752, 802])\n",
    "years = np.linspace(2005, 2017, 13)\n",
    "m,b = polyfit(years, y, 1)\n",
    "\n",
    "pylab.bar(years, y)\n",
    "pylab.plot(years, y, 'yo', years, m*years+b, '--k', color = 'red')\n",
    "pylab.title('Trade value from Kenya to Czech', fontsize=15)\n",
    "pylab.xlabel('years', fontsize=14)\n",
    "pylab.ylabel('Value', fontsize=14)"
   ]
  }
 ],
 "metadata": {
  "kernelspec": {
   "display_name": "Python 3",
   "language": "python",
   "name": "python3"
  },
  "language_info": {
   "codemirror_mode": {
    "name": "ipython",
    "version": 3
   },
   "file_extension": ".py",
   "mimetype": "text/x-python",
   "name": "python",
   "nbconvert_exporter": "python",
   "pygments_lexer": "ipython3",
   "version": "3.7.1"
  }
 },
 "nbformat": 4,
 "nbformat_minor": 2
}
